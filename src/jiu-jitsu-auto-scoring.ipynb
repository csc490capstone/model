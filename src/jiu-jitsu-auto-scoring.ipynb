{
  "cells": [
    {
      "cell_type": "markdown",
      "source": [
        "# jiu-jitsu-auto-scoring\n",
        "*This notebook is a **WIP**!*\n"
      ],
      "metadata": {
        "id": "C-s0aW8ZM4Uh"
      },
      "id": "C-s0aW8ZM4Uh"
    },
    {
      "cell_type": "code",
      "source": [
        "# prompt: mount drive and clone the repository in the current branch, the organization is called jiu-jitsu-auto-scoring and the repository is called model\n",
        "\n",
        "from google.colab import drive\n",
        "drive.mount('/content/drive')\n",
        "\n",
        "!git clone https://github.com/jiu-jitsu-auto-scoring/model.git\n"
      ],
      "metadata": {
        "id": "6QKnm8bAOHqy"
      },
      "id": "6QKnm8bAOHqy",
      "execution_count": null,
      "outputs": []
    }
  ],
  "metadata": {
    "colab": {
      "provenance": []
    },
    "language_info": {
      "name": "python"
    },
    "kernelspec": {
      "name": "python3",
      "display_name": "Python 3"
    }
  },
  "nbformat": 4,
  "nbformat_minor": 5
}