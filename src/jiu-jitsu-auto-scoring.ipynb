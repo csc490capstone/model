{
  "cells": [
    {
      "cell_type": "markdown",
      "source": [
        "# jiu-jitsu-auto-scoring.ipynb\n",
        "*This notebook is a **WIP**!*\n"
      ],
      "metadata": {
        "id": "C-s0aW8ZM4Uh"
      },
      "id": "C-s0aW8ZM4Uh"
    }
  ],
  "metadata": {
    "colab": {
      "provenance": []
    }
  },
  "nbformat": 4,
  "nbformat_minor": 5
}